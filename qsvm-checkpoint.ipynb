{
 "cells": [
  {
   "cell_type": "code",
   "execution_count": 55,
   "id": "9078e2f3-8bf3-4c52-b446-d9b929ae51e3",
   "metadata": {},
   "outputs": [],
   "source": [
    "import pandas as pd\n",
    "import numpy as np\n",
    "from sklearn.model_selection import train_test_split\n",
    "from sklearn.preprocessing import MinMaxScaler\n",
    "from sklearn.metrics import accuracy_score, roc_auc_score\n",
    "from sklearn.svm import SVC\n",
    "from xgboost import XGBClassifier\n",
    "from sklearn.linear_model import LogisticRegression\n",
    "\n",
    "from qiskit_aer import AerSimulator\n",
    "from qiskit.circuit.library import ZZFeatureMap\n",
    "from qiskit.primitives import StatevectorSampler        \n",
    "from qiskit_machine_learning.kernels import FidelityQuantumKernel\n",
    "from qiskit_machine_learning.state_fidelities import ComputeUncompute"
   ]
  },
  {
   "cell_type": "code",
   "execution_count": 57,
   "id": "bb9eee23-ffbc-4a32-8729-9d92ffa59bcc",
   "metadata": {},
   "outputs": [],
   "source": [
    "# data processing\n",
    "data = pd.read_csv(\"creditcard.csv\")\n",
    "\n",
    "# Balance dataset (1:5 ratio)\n",
    "fraud = data[data.Class == 1]\n",
    "non_fraud = data[data.Class == 0].sample(len(fraud) * 5, random_state=42)\n",
    "df = pd.concat([fraud, non_fraud]).sample(frac=1, random_state=42)\n",
    "\n",
    "X = df.drop('Class', axis=1)\n",
    "y = df['Class']\n",
    "\n",
    "scaler = MinMaxScaler(feature_range=(-1, 1))\n",
    "X_scaled = scaler.fit_transform(X)\n",
    "\n",
    "X_train, X_test, y_train, y_test = train_test_split(\n",
    "    X_scaled, y, test_size=0.3, random_state=42, stratify=y\n",
    ")"
   ]
  },
  {
   "cell_type": "code",
   "execution_count": 53,
   "id": "38972d69-8d10-4f32-86fc-05c971c1e249",
   "metadata": {},
   "outputs": [
    {
     "ename": "TypeError",
     "evalue": "FidelityQuantumKernel.__init__() got an unexpected keyword argument 'sampler'",
     "output_type": "error",
     "traceback": [
      "\u001b[31m---------------------------------------------------------------------------\u001b[39m",
      "\u001b[31mTypeError\u001b[39m                                 Traceback (most recent call last)",
      "\u001b[36mCell\u001b[39m\u001b[36m \u001b[39m\u001b[32mIn[53]\u001b[39m\u001b[32m, line 9\u001b[39m\n\u001b[32m      7\u001b[39m \u001b[38;5;66;03m# Modern Sampler (no backend arg)\u001b[39;00m\n\u001b[32m      8\u001b[39m sampler = StatevectorSampler()      \u001b[38;5;66;03m# noiseless simulator by default\u001b[39;00m\n\u001b[32m----> \u001b[39m\u001b[32m9\u001b[39m quantum_kernel = \u001b[43mFidelityQuantumKernel\u001b[49m\u001b[43m(\u001b[49m\u001b[43mfeature_map\u001b[49m\u001b[43m=\u001b[49m\u001b[43mfeature_map\u001b[49m\u001b[43m,\u001b[49m\u001b[43m \u001b[49m\u001b[43msampler\u001b[49m\u001b[43m=\u001b[49m\u001b[43msampler\u001b[49m\u001b[43m)\u001b[49m\n\u001b[32m     11\u001b[39m train_kernel = quantum_kernel.evaluate(X_train_small)\n\u001b[32m     12\u001b[39m test_kernel = quantum_kernel.evaluate(X_test_small, X_train_small)\n",
      "\u001b[31mTypeError\u001b[39m: FidelityQuantumKernel.__init__() got an unexpected keyword argument 'sampler'"
     ]
    }
   ],
   "source": [
    "# Reduce features for quantum encoding\n",
    "X_train_small = X_train[:, :3]\n",
    "X_test_small = X_test[:, :3]\n",
    "\n",
    "# Define feature map\n",
    "feature_map = ZZFeatureMap(feature_dimension=3, reps=2, entanglement='full')\n",
    "\n",
    "# Instantiate FidelityQuantumKernel with ComputeUncompute fidelity\n",
    "quantum_kernel = FidelityQuantumKernel(feature_map=feature_map, fidelity=ComputeUncompute())\n",
    "\n",
    "# Evaluate kernel matrices\n",
    "train_kernel = quantum_kernel.evaluate(X_train_small)\n",
    "test_kernel = quantum_kernel.evaluate(X_test_small, X_train_small)\n",
    "\n",
    "# Train SVM with precomputed kernel\n",
    "qsvc = SVC(kernel='precomputed')\n",
    "qsvc.fit(train_kernel, y_train)\n",
    "\n",
    "# Make predictions and evaluate\n",
    "y_pred_qsvc = qsvc.predict(test_kernel)\n",
    "acc_qsvc = accuracy_score(y_test, y_pred_qsvc)\n",
    "auc_qsvc = roc_auc_score(y_test, y_pred_qsvc)\n",
    "print(f\"Quantum SVM → Accuracy: {acc_qsvc:.4f}, AUC: {auc_qsvc:.4f}\")"
   ]
  },
  {
   "cell_type": "code",
   "execution_count": 51,
   "id": "9f8403ec-a1cb-408f-b904-4173b7592cd0",
   "metadata": {},
   "outputs": [
    {
     "name": "stdout",
     "output_type": "stream",
     "text": [
      "XGBoost → Accuracy: 0.9797, AUC: 0.9500\n"
     ]
    }
   ],
   "source": [
    "xgb = XGBClassifier(eval_metric='logloss')\n",
    "xgb.fit(X_train, y_train)\n",
    "y_pred_xgb = xgb.predict(X_test)\n",
    "print(f\"XGBoost → Accuracy: {accuracy_score(y_test, y_pred_xgb):.4f}, \"\n",
    "      f\"AUC: {roc_auc_score(y_test, y_pred_xgb):.4f}\")"
   ]
  },
  {
   "cell_type": "code",
   "execution_count": null,
   "id": "c5769020-b8a4-4e00-b5b0-8a9944e49262",
   "metadata": {},
   "outputs": [],
   "source": [
    "# Hybrid Ensemble (Classical + Quantum)\n",
    "import numpy as np\n",
    "from sklearn.linear_model import LogisticRegression\n",
    "\n",
    "# Get prediction probabilities\n",
    "prob_xgb = xgb.predict_proba(X_test)[:, 1]\n",
    "prob_qsvc = qsvc.decision_function(test_kernel)\n",
    "\n",
    "# Combine into a meta-feature dataset\n",
    "meta_X = np.vstack([prob_xgb, prob_qsvc]).T\n",
    "meta_y = y_test.values\n",
    "\n",
    "# Meta-classifier to decide which model is right\n",
    "meta_model = LogisticRegression()\n",
    "meta_model.fit(meta_X, meta_y)\n",
    "meta_pred = meta_model.predict(meta_X)\n",
    "\n",
    "print(f\"Hybrid Model Accuracy: {accuracy_score(meta_y, meta_pred):.4f}, AUC: {roc_auc_score(meta_y, meta_pred):.4f}\")\n"
   ]
  },
  {
   "cell_type": "code",
   "execution_count": null,
   "id": "c201a5aa-ae56-4e01-bde4-2c619e8d3063",
   "metadata": {},
   "outputs": [],
   "source": [
    "# Visualization\n",
    "import matplotlib.pyplot as plt\n",
    "from sklearn.metrics import roc_curve, auc\n",
    "\n",
    "fpr, tpr, _ = roc_curve(meta_y, meta_model.predict_proba(meta_X)[:,1])\n",
    "plt.plot(fpr, tpr, label=f'Hybrid Model (AUC={auc(fpr, tpr):.2f})')\n",
    "plt.xlabel('False Positive Rate')\n",
    "plt.ylabel('True Positive Rate')\n",
    "plt.legend()\n",
    "plt.title('Hybrid Quantum-Classical Fraud Detection')\n",
    "plt.show()\n"
   ]
  },
  {
   "cell_type": "code",
   "execution_count": null,
   "id": "3eb28390-956f-4f22-a699-3b88fb0273a1",
   "metadata": {
    "scrolled": true
   },
   "outputs": [],
   "source": [
    "# pip install qiskit qiskit-aer qiskit-machine-learning --upgrade\n"
   ]
  },
  {
   "cell_type": "code",
   "execution_count": null,
   "id": "5c92078d-4c58-4235-b60c-3ab8263f07e9",
   "metadata": {},
   "outputs": [],
   "source": [
    "# pip install xgboost\n"
   ]
  },
  {
   "cell_type": "code",
   "execution_count": null,
   "id": "d9e8c477-a0d6-402b-bcd5-60f342c9f4b4",
   "metadata": {},
   "outputs": [],
   "source": [
    "# !pip install qiskit-aer --upgrade\n"
   ]
  },
  {
   "cell_type": "code",
   "execution_count": null,
   "id": "5e039932-907f-4da8-a2c5-5e2116f662db",
   "metadata": {},
   "outputs": [],
   "source": [
    "\n"
   ]
  },
  {
   "cell_type": "code",
   "execution_count": null,
   "id": "ac1f4c4d-5089-478a-a613-c24e630b35ad",
   "metadata": {},
   "outputs": [],
   "source": []
  }
 ],
 "metadata": {
  "kernelspec": {
   "display_name": "Python 3 (ipykernel)",
   "language": "python",
   "name": "python3"
  },
  "language_info": {
   "codemirror_mode": {
    "name": "ipython",
    "version": 3
   },
   "file_extension": ".py",
   "mimetype": "text/x-python",
   "name": "python",
   "nbconvert_exporter": "python",
   "pygments_lexer": "ipython3",
   "version": "3.12.7"
  }
 },
 "nbformat": 4,
 "nbformat_minor": 5
}
